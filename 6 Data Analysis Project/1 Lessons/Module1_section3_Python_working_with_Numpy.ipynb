{
 "cells": [
  {
   "cell_type": "code",
   "execution_count": 1,
   "id": "15a96141",
   "metadata": {},
   "outputs": [],
   "source": [
    "import numpy as np"
   ]
  },
  {
   "cell_type": "markdown",
   "id": "05dcfeaa",
   "metadata": {},
   "source": [
    "# Creating NumPy array\n",
    "\n",
    "We will use pandas here to read the csv file for the sake of simplicity. Import pandas library and use the read_csv() to get the csv file in the form of a DataFrame. "
   ]
  },
  {
   "cell_type": "code",
   "execution_count": 2,
   "id": "6a0cee7b",
   "metadata": {},
   "outputs": [
    {
     "name": "stdout",
     "output_type": "stream",
     "text": [
      "                                                 Name  Calories  Fat (g)  \\\n",
      "0            Cool Lime Starbucks Refreshers™ Beverage        45      0.0   \n",
      "1      Strawberry Acai Starbucks Refreshers™ Beverage        80      0.0   \n",
      "2   Very Berry Hibiscus Starbucks Refreshers™ Beve...        60      0.0   \n",
      "3             Evolution Fresh™ Organic Ginger Limeade       110      0.0   \n",
      "4                                         Iced Coffee         0      0.0   \n",
      "..                                                ...       ...      ...   \n",
      "79                                    Latte Macchiato       190      7.0   \n",
      "80                                    Latte Macchiato       190      7.0   \n",
      "81                                      Vanilla Latte       250      6.0   \n",
      "82                              White Chocolate Mocha       360     11.0   \n",
      "83         Cinnamon Dolce Frappuccino® Blended Coffee       350      4.5   \n",
      "\n",
      "    Carb. (g)  Fiber (g)  Protein  Sodium  \n",
      "0          11          0        0      10  \n",
      "1          18          1        0      10  \n",
      "2          14          1        0      10  \n",
      "3          28          0        0       5  \n",
      "4           0          0        0       0  \n",
      "..        ...        ...      ...     ...  \n",
      "79         19          0       12     160  \n",
      "80         19          0       12     160  \n",
      "81         37          0       12     150  \n",
      "82         53          0       14     240  \n",
      "83         64          0       15       0  \n",
      "\n",
      "[84 rows x 7 columns]\n"
     ]
    }
   ],
   "source": [
    "import pandas as pd\n",
    "data = pd.read_csv('starbucks-menu-nutrition-drinks.csv')\n",
    "print(data)"
   ]
  },
  {
   "cell_type": "markdown",
   "id": "a75a597c",
   "metadata": {},
   "source": [
    "Let us create a numpy array using np.array() function. Here we will create a simple numerical numpy array of calories function from our previously extracted data."
   ]
  },
  {
   "cell_type": "code",
   "execution_count": 3,
   "id": "0b9d69d5",
   "metadata": {},
   "outputs": [
    {
     "data": {
      "text/plain": [
       "array([ 45,  80,  60, 110,   0, 130, 140, 130,  80,  60, 150, 140, 140,\n",
       "       150,  70, 120, 140,  60, 120, 140, 150, 140,  30,  70,  30,  70,\n",
       "        30,  90,  60, 130, 140, 130,  90,  90, 210, 200,  60,  50,  10,\n",
       "        60, 150, 140, 140, 150,  70, 120, 140,  60, 120, 140, 150, 140,\n",
       "         5,  10,   5,   5,   5,   5,   0,   5,  70,   5, 110, 320, 430,\n",
       "       190, 290, 120, 250, 260, 250, 180, 130, 230, 250, 200, 260, 190,\n",
       "       300, 190, 190, 250, 360, 350])"
      ]
     },
     "execution_count": 3,
     "metadata": {},
     "output_type": "execute_result"
    }
   ],
   "source": [
    "cal = np.array(data['Calories'])\n",
    "cal"
   ]
  },
  {
   "cell_type": "markdown",
   "id": "d30cf013",
   "metadata": {},
   "source": [
    "Thus, we can see all the calorie contents in each of our drinks present in data. "
   ]
  },
  {
   "cell_type": "markdown",
   "id": "bb4edfaa",
   "metadata": {},
   "source": [
    "You can also create an array from scratch from list as follows:"
   ]
  },
  {
   "cell_type": "code",
   "execution_count": 4,
   "id": "eb3372f9",
   "metadata": {},
   "outputs": [
    {
     "data": {
      "text/plain": [
       "array([11,  2, 53, 74,  5])"
      ]
     },
     "execution_count": 4,
     "metadata": {},
     "output_type": "execute_result"
    }
   ],
   "source": [
    "li = [11,2,53,74,5]\n",
    "nd_li = np.array(li)\n",
    "nd_li"
   ]
  },
  {
   "cell_type": "markdown",
   "id": "fef61135",
   "metadata": {},
   "source": [
    "A numpy array can also contain strings, lists, numbers, etc, but all the data in the array should be of same type."
   ]
  },
  {
   "cell_type": "code",
   "execution_count": 5,
   "id": "cf98cc02",
   "metadata": {},
   "outputs": [
    {
     "data": {
      "text/plain": [
       "array(['Wiley', 'Python'], dtype='<U6')"
      ]
     },
     "execution_count": 5,
     "metadata": {},
     "output_type": "execute_result"
    }
   ],
   "source": [
    "str_li = ['Wiley', 'Python']\n",
    "nd_str_li = np.array(str_li)\n",
    "nd_str_li"
   ]
  },
  {
   "cell_type": "markdown",
   "id": "8f2eebb8",
   "metadata": {},
   "source": [
    "A array or a matrix can be created as follows."
   ]
  },
  {
   "cell_type": "code",
   "execution_count": 45,
   "id": "5502272f",
   "metadata": {},
   "outputs": [],
   "source": [
    "mat1 = np.array([[1,2,3],\n",
    "        [4,5,6],\n",
    "        [7,8,9]])        # This is a 3x3 matrix\n"
   ]
  },
  {
   "cell_type": "markdown",
   "id": "aebc7d54",
   "metadata": {},
   "source": [
    "We can also create an ndarray containing all zeros or all ones of any size instead of writing a whole big array manually."
   ]
  },
  {
   "cell_type": "code",
   "execution_count": 7,
   "id": "645a91b5",
   "metadata": {},
   "outputs": [
    {
     "data": {
      "text/plain": [
       "array([0, 0, 0, 0, 0, 0, 0, 0, 0, 0, 0, 0, 0, 0, 0, 0, 0, 0, 0, 0, 0, 0,\n",
       "       0, 0, 0, 0, 0, 0, 0, 0, 0, 0, 0, 0, 0, 0, 0, 0, 0, 0, 0, 0, 0, 0,\n",
       "       0, 0, 0, 0, 0, 0, 0, 0, 0, 0, 0, 0, 0, 0, 0, 0, 0, 0, 0, 0, 0, 0,\n",
       "       0, 0, 0, 0, 0, 0, 0, 0, 0, 0, 0, 0, 0, 0, 0, 0, 0, 0, 0, 0, 0, 0,\n",
       "       0, 0, 0, 0, 0, 0, 0, 0, 0, 0, 0, 0])"
      ]
     },
     "execution_count": 7,
     "metadata": {},
     "output_type": "execute_result"
    }
   ],
   "source": [
    "z = np.zeros(100, dtype=int)\n",
    "z"
   ]
  },
  {
   "cell_type": "code",
   "execution_count": 8,
   "id": "1af9c7f8",
   "metadata": {},
   "outputs": [
    {
     "data": {
      "text/plain": [
       "array([[0., 0., 0., 0., 0.],\n",
       "       [0., 0., 0., 0., 0.],\n",
       "       [0., 0., 0., 0., 0.],\n",
       "       [0., 0., 0., 0., 0.],\n",
       "       [0., 0., 0., 0., 0.]])"
      ]
     },
     "execution_count": 8,
     "metadata": {},
     "output_type": "execute_result"
    }
   ],
   "source": [
    "z = np.zeros([5,5], dtype=float)\n",
    "z"
   ]
  },
  {
   "cell_type": "code",
   "execution_count": 9,
   "id": "d8550912",
   "metadata": {},
   "outputs": [
    {
     "data": {
      "text/plain": [
       "array([1, 1, 1, 1, 1, 1, 1, 1, 1, 1, 1, 1, 1, 1, 1, 1, 1, 1, 1, 1, 1, 1,\n",
       "       1, 1, 1, 1, 1, 1, 1, 1, 1, 1, 1, 1, 1, 1, 1, 1, 1, 1, 1, 1, 1, 1,\n",
       "       1, 1, 1, 1, 1, 1])"
      ]
     },
     "execution_count": 9,
     "metadata": {},
     "output_type": "execute_result"
    }
   ],
   "source": [
    "o = np.ones(50, dtype=int)\n",
    "o"
   ]
  },
  {
   "cell_type": "code",
   "execution_count": 10,
   "id": "81f589c7",
   "metadata": {},
   "outputs": [
    {
     "data": {
      "text/plain": [
       "array([['1', '1', '1', '1', '1'],\n",
       "       ['1', '1', '1', '1', '1'],\n",
       "       ['1', '1', '1', '1', '1'],\n",
       "       ['1', '1', '1', '1', '1'],\n",
       "       ['1', '1', '1', '1', '1']], dtype='<U1')"
      ]
     },
     "execution_count": 10,
     "metadata": {},
     "output_type": "execute_result"
    }
   ],
   "source": [
    "o = np.ones([5,5], dtype=str)\n",
    "o"
   ]
  },
  {
   "cell_type": "markdown",
   "id": "8b20d5e5",
   "metadata": {},
   "source": [
    "The arange function takes the arguments start, stop and step and returns an array with evenly spaced elements as per the interval. The interval mentioned is half-opened i.e.[start,stop)"
   ]
  },
  {
   "cell_type": "code",
   "execution_count": 11,
   "id": "159bdcbd",
   "metadata": {},
   "outputs": [
    {
     "data": {
      "text/plain": [
       "array([0, 1, 2])"
      ]
     },
     "execution_count": 11,
     "metadata": {},
     "output_type": "execute_result"
    }
   ],
   "source": [
    "arr1 = np.arange(3)\n",
    "arr1"
   ]
  },
  {
   "cell_type": "code",
   "execution_count": 12,
   "id": "2657a59f",
   "metadata": {},
   "outputs": [
    {
     "data": {
      "text/plain": [
       "array([1, 2, 3, 4, 5, 6, 7, 8, 9])"
      ]
     },
     "execution_count": 12,
     "metadata": {},
     "output_type": "execute_result"
    }
   ],
   "source": [
    "arr2 = np.arange(1,10,1)\n",
    "arr2"
   ]
  },
  {
   "cell_type": "code",
   "execution_count": 13,
   "id": "898fcd30",
   "metadata": {},
   "outputs": [
    {
     "data": {
      "text/plain": [
       "array([ 2,  4,  6,  8, 10, 12, 14, 16, 18, 20, 22, 24, 26, 28])"
      ]
     },
     "execution_count": 13,
     "metadata": {},
     "output_type": "execute_result"
    }
   ],
   "source": [
    "arr3 = np.arange(2,30,2)\n",
    "arr3"
   ]
  },
  {
   "cell_type": "markdown",
   "id": "7b796ea4",
   "metadata": {},
   "source": [
    "# NumPy Array Manipulation \n",
    "\n",
    "copy() is a function which is used to copy contents of one array to another. Suppose we extract a column say 'Protein' from our data and convert it to numpy and make a copy of it. "
   ]
  },
  {
   "cell_type": "code",
   "execution_count": 14,
   "id": "9687b3b1",
   "metadata": {},
   "outputs": [
    {
     "name": "stdout",
     "output_type": "stream",
     "text": [
      "[ 0  0  0  0  0  5  5  5  0  0  0  0  0  0  0  0  0  0  0  0  0  0  0  0\n",
      "  0  0  0  0  0  5  5  5  0  0 20 20  1  1  1  0  0  0  0  0  0  0  0  0\n",
      "  0  0  0  0  1  1  1  1  0  0  0  0  1  1  1 14 12 13 13  8 10 11 12 12\n",
      "  8  9 10  7 11  7 10 12 12 12 14 15]\n",
      "[ 0  0  0  0  0  5  5  5  0  0  0  0  0  0  0  0  0  0  0  0  0  0  0  0\n",
      "  0  0  0  0  0  5  5  5  0  0 20 20  1  1  1  0  0  0  0  0  0  0  0  0\n",
      "  0  0  0  0  1  1  1  1  0  0  0  0  1  1  1 14 12 13 13  8 10 11 12 12\n",
      "  8  9 10  7 11  7 10 12 12 12 14 15]\n"
     ]
    }
   ],
   "source": [
    "protein = np.array(data['Protein'])\n",
    "print(protein)\n",
    "\n",
    "protein_copy = np.copy(protein)\n",
    "print(protein_copy)"
   ]
  },
  {
   "cell_type": "markdown",
   "id": "024198ea",
   "metadata": {},
   "source": [
    "As we can see that protein_copy copied all the contents of the protein array and thus both the arrays are same. "
   ]
  },
  {
   "cell_type": "markdown",
   "id": "565291eb",
   "metadata": {},
   "source": [
    "We can also append certain values to the numpy array using the append() function. This function will insert an element at the end of the list. "
   ]
  },
  {
   "cell_type": "code",
   "execution_count": 15,
   "id": "7670e40e",
   "metadata": {},
   "outputs": [
    {
     "data": {
      "text/plain": [
       "[3, 4, 5, 2, 10]"
      ]
     },
     "execution_count": 15,
     "metadata": {},
     "output_type": "execute_result"
    }
   ],
   "source": [
    "arr1 = [3,4,5,2]\n",
    "arr1.append(10)\n",
    "arr1"
   ]
  },
  {
   "cell_type": "markdown",
   "id": "2ef5bdc8",
   "metadata": {},
   "source": [
    "append() function can also be used to append an array to another array. "
   ]
  },
  {
   "cell_type": "code",
   "execution_count": 16,
   "id": "b1ac8e9c",
   "metadata": {},
   "outputs": [
    {
     "data": {
      "text/plain": [
       "[3, 4, 5, 2, 10, [4.3, 23.33, 90.8, 32.75]]"
      ]
     },
     "execution_count": 16,
     "metadata": {},
     "output_type": "execute_result"
    }
   ],
   "source": [
    "arr2 = [4.3, 23.33, 90.8, 32.75]\n",
    "arr1.append(arr2)\n",
    "arr1"
   ]
  },
  {
   "cell_type": "markdown",
   "id": "97700bee",
   "metadata": {},
   "source": [
    "The concatenate function in NumPy joins two or more arrays along a specified axis. "
   ]
  },
  {
   "cell_type": "code",
   "execution_count": 17,
   "id": "d067adf6",
   "metadata": {},
   "outputs": [
    {
     "name": "stdout",
     "output_type": "stream",
     "text": [
      "['apple' 'banana' 'orange' 'kiwi' 'kale' 'cabbage' 'avocado']\n",
      "[ 1 23  3  4]\n"
     ]
    }
   ],
   "source": [
    "fruits = np.array(['apple', 'banana', 'orange', 'kiwi'])\n",
    "veggies = np.array(['kale', 'cabbage', 'avocado'])\n",
    "print(np.concatenate((fruits, veggies)))\n",
    "\n",
    "arr1 = np.array([1,23])\n",
    "arr2 = np.array([3,4])\n",
    "arr3 = np.concatenate((arr1,arr2))\n",
    "print(arr3)"
   ]
  },
  {
   "cell_type": "markdown",
   "id": "55a98d95",
   "metadata": {},
   "source": [
    "Numpy provides some helper functions for stacking elements in two arrays in different ways. \n",
    "hstack() is a function that stacks elements in a row. "
   ]
  },
  {
   "cell_type": "code",
   "execution_count": 18,
   "id": "e367790a",
   "metadata": {},
   "outputs": [
    {
     "name": "stdout",
     "output_type": "stream",
     "text": [
      "[1 2 3 4 5 6]\n"
     ]
    }
   ],
   "source": [
    "arr1 = np.array([1, 2, 3])\n",
    "\n",
    "arr2 = np.array([4, 5, 6])\n",
    "\n",
    "arr = np.hstack((arr1, arr2))\n",
    "\n",
    "print(arr) "
   ]
  },
  {
   "cell_type": "markdown",
   "id": "74ba50a5",
   "metadata": {},
   "source": [
    "vstack() stacks a column wise"
   ]
  },
  {
   "cell_type": "code",
   "execution_count": 19,
   "id": "fb8d32b5",
   "metadata": {},
   "outputs": [
    {
     "name": "stdout",
     "output_type": "stream",
     "text": [
      "[[1 2 3]\n",
      " [4 5 6]]\n"
     ]
    }
   ],
   "source": [
    "import numpy as np\n",
    "\n",
    "arr1 = np.array([1, 2, 3])\n",
    "\n",
    "arr2 = np.array([4, 5, 6])\n",
    "\n",
    "arr = np.vstack((arr1, arr2))\n",
    "\n",
    "print(arr) "
   ]
  },
  {
   "cell_type": "markdown",
   "id": "42c6a2d2",
   "metadata": {},
   "source": [
    "dstack() stacks along height, which is the same as depth."
   ]
  },
  {
   "cell_type": "code",
   "execution_count": 20,
   "id": "2dd981ce",
   "metadata": {},
   "outputs": [
    {
     "name": "stdout",
     "output_type": "stream",
     "text": [
      "[[[1 4]\n",
      "  [2 5]\n",
      "  [3 6]]]\n"
     ]
    }
   ],
   "source": [
    "arr1 = np.array([1, 2, 3])\n",
    "\n",
    "arr2 = np.array([4, 5, 6])\n",
    "\n",
    "arr = np.dstack((arr1, arr2))\n",
    "\n",
    "print(arr) "
   ]
  },
  {
   "cell_type": "markdown",
   "id": "5901b485",
   "metadata": {},
   "source": [
    "Let's observe matrix operations using numpy"
   ]
  },
  {
   "cell_type": "code",
   "execution_count": 21,
   "id": "b8b6b9b0",
   "metadata": {},
   "outputs": [
    {
     "name": "stdout",
     "output_type": "stream",
     "text": [
      "Addition of two matrix\n",
      "[[ 6  8]\n",
      " [ 8 16]]\n"
     ]
    }
   ],
   "source": [
    "matrix1 = np.array([[1,2],\n",
    "                    [8,7]])\n",
    "matrix2 = np.array([[5,6],\n",
    "                    [0,9]])\n",
    "\n",
    "# adding two matrix\n",
    "print(\"Addition of two matrix\")\n",
    "print(np.add(matrix1, matrix2))"
   ]
  },
  {
   "cell_type": "code",
   "execution_count": 22,
   "id": "fe8ae9cb",
   "metadata": {},
   "outputs": [
    {
     "name": "stdout",
     "output_type": "stream",
     "text": [
      "Subtraction of two matrix\n",
      "[[-4 -4]\n",
      " [ 8 -2]]\n"
     ]
    }
   ],
   "source": [
    "# subtraction two matrix\n",
    "print(\"Subtraction of two matrix\")\n",
    "print(np.subtract(matrix1, matrix2))"
   ]
  },
  {
   "cell_type": "code",
   "execution_count": 23,
   "id": "a8e77465",
   "metadata": {},
   "outputs": [
    {
     "name": "stdout",
     "output_type": "stream",
     "text": [
      "Multiplication of two matrix\n",
      "[[  5  24]\n",
      " [ 40 111]]\n"
     ]
    }
   ],
   "source": [
    "# Multiplication of two matrix\n",
    "print(\"Multiplication of two matrix\")\n",
    "print(np.dot(matrix1, matrix2))"
   ]
  },
  {
   "cell_type": "markdown",
   "id": "0d438c27",
   "metadata": {},
   "source": [
    "It is noticeable here that the multiply() function will simply multiply the numbers at same indexes in two matrices instead of doing the dot product. "
   ]
  },
  {
   "cell_type": "code",
   "execution_count": 24,
   "id": "2de7736f",
   "metadata": {},
   "outputs": [
    {
     "name": "stdout",
     "output_type": "stream",
     "text": [
      "Multiplication of array\n",
      "[[ 5 12]\n",
      " [ 0 63]]\n"
     ]
    }
   ],
   "source": [
    "#Multiplication of two simple arrays\n",
    "print(\"Multiplication of array\")\n",
    "print(np.multiply(matrix1, matrix2))"
   ]
  },
  {
   "cell_type": "markdown",
   "id": "c2ce2ed3",
   "metadata": {},
   "source": [
    "# Reshaping NumPy array "
   ]
  },
  {
   "cell_type": "markdown",
   "id": "b6c5983f",
   "metadata": {},
   "source": [
    "The numpy.reshape() function shapes an array without changing the data of the array. Here we are changing a 1D array to 2x4 dimension. "
   ]
  },
  {
   "cell_type": "code",
   "execution_count": 25,
   "id": "23557c9f",
   "metadata": {},
   "outputs": [
    {
     "data": {
      "text/plain": [
       "array([[0, 1, 2, 3],\n",
       "       [4, 5, 6, 7]])"
      ]
     },
     "execution_count": 25,
     "metadata": {},
     "output_type": "execute_result"
    }
   ],
   "source": [
    "arr1 = np.arange(8)\n",
    "arr1_re = arr1.reshape(2, 4)\n",
    "arr1_re"
   ]
  },
  {
   "cell_type": "markdown",
   "id": "41d31ae8",
   "metadata": {},
   "source": [
    "We can also convert to a 3D matrix as follows: "
   ]
  },
  {
   "cell_type": "code",
   "execution_count": 26,
   "id": "f7b2afa7",
   "metadata": {},
   "outputs": [
    {
     "data": {
      "text/plain": [
       "array([[[0, 1],\n",
       "        [2, 3]],\n",
       "\n",
       "       [[4, 5],\n",
       "        [6, 7]]])"
      ]
     },
     "execution_count": 26,
     "metadata": {},
     "output_type": "execute_result"
    }
   ],
   "source": [
    "arr2 = np.arange(8).reshape(2, 2, 2)\n",
    "arr2"
   ]
  },
  {
   "cell_type": "markdown",
   "id": "e3bbe881",
   "metadata": {},
   "source": [
    "# Operations on NumPy "
   ]
  },
  {
   "cell_type": "markdown",
   "id": "84ebba5e",
   "metadata": {},
   "source": [
    "char.lower() function is used to convert all the characters in the array in lowercase. "
   ]
  },
  {
   "cell_type": "code",
   "execution_count": 27,
   "id": "3a54b914",
   "metadata": {},
   "outputs": [
    {
     "name": "stdout",
     "output_type": "stream",
     "text": [
      "['kiwi' 'oranges' 'strawberries']\n"
     ]
    }
   ],
   "source": [
    "import numpy as np\n",
    "\n",
    "fruits = np.array(['Kiwi', 'ORANGES', 'StrawBerries'])\n",
    "fruits = np.char.lower(fruits)\n",
    "print(fruits)"
   ]
  },
  {
   "cell_type": "markdown",
   "id": "4057682b",
   "metadata": {},
   "source": [
    "char.upper() function is used to convert all the characters in the array in uppercase. "
   ]
  },
  {
   "cell_type": "code",
   "execution_count": 28,
   "id": "536b0ef3",
   "metadata": {},
   "outputs": [
    {
     "name": "stdout",
     "output_type": "stream",
     "text": [
      "['KIWI' 'ORANGES' 'STRAWBERRIES']\n"
     ]
    }
   ],
   "source": [
    "fruits = np.array(['Kiwi', 'ORANGES', 'StrawBerries'])\n",
    "fruits = np.char.upper(fruits)\n",
    "print(fruits)"
   ]
  },
  {
   "cell_type": "markdown",
   "id": "527a7ac0",
   "metadata": {},
   "source": [
    "numpy.split() function returns a list of strings after breaking the given string by the specified separator."
   ]
  },
  {
   "cell_type": "code",
   "execution_count": 29,
   "id": "f9d4d24b",
   "metadata": {},
   "outputs": [
    {
     "name": "stdout",
     "output_type": "stream",
     "text": [
      "['Hello', 'World!']\n"
     ]
    }
   ],
   "source": [
    "str1 = \"Hello World!\"\n",
    "np1 = np.char.split(str1)\n",
    "print(np1)"
   ]
  },
  {
   "cell_type": "markdown",
   "id": "ce5e5afc",
   "metadata": {},
   "source": [
    "numpy.join() function is a string method and returns a string in which the elements of sequence have been joined by str separator."
   ]
  },
  {
   "cell_type": "code",
   "execution_count": 30,
   "id": "6f877e81",
   "metadata": {},
   "outputs": [
    {
     "name": "stdout",
     "output_type": "stream",
     "text": [
      "w-i-l-e-y\n",
      "['p-y-t-h-o-n' 'f:o:r' 'b.e.g.i.n.n.e.r.s']\n"
     ]
    }
   ],
   "source": [
    "print(np.char.join('-', 'wiley'))\n",
    "\n",
    "print(np.char.join(['-', ':', '.'], ['python', 'for', 'beginners']))"
   ]
  },
  {
   "cell_type": "markdown",
   "id": "ff4c495f",
   "metadata": {},
   "source": [
    "numpy.bitwise_and() function is used to compute the bit-wise AND of two array element-wise. This function computes the bit-wise AND of the underlying binary representation of the integers in the input arrays."
   ]
  },
  {
   "cell_type": "code",
   "execution_count": 31,
   "id": "912d8250",
   "metadata": {
    "scrolled": true
   },
   "outputs": [
    {
     "name": "stdout",
     "output_type": "stream",
     "text": [
      "Input array1 :  [2, 8, 125]\n",
      "Input array2 :  [3, 3, 115]\n",
      "Output array after bitwise_and:  [  2   0 113]\n"
     ]
    }
   ],
   "source": [
    "arr1 = [2, 8, 125]\n",
    "arr2 = [3, 3, 115]\n",
    "  \n",
    "print (\"Input array1 : \", arr1) \n",
    "print (\"Input array2 : \", arr2)\n",
    "   \n",
    "out_arr = np.bitwise_and(arr1, arr2) \n",
    "print (\"Output array after bitwise_and: \", out_arr) "
   ]
  },
  {
   "cell_type": "markdown",
   "id": "391d1a92",
   "metadata": {},
   "source": [
    "numpy.bitwise_or() function is used to compute the bit-wise OR of two array element-wise. This function computes the bit-wise OR of the underlying binary representation of the integers in the input arrays."
   ]
  },
  {
   "cell_type": "code",
   "execution_count": 32,
   "id": "ab906585",
   "metadata": {},
   "outputs": [
    {
     "name": "stdout",
     "output_type": "stream",
     "text": [
      "Input array1 :  [2, 8, 125]\n",
      "Input array2 :  [3, 3, 115]\n",
      "Output array after bitwise_or:  [  3  11 127]\n"
     ]
    }
   ],
   "source": [
    "arr1 = [2, 8, 125]\n",
    "arr2 = [3, 3, 115]\n",
    "  \n",
    "print (\"Input array1 : \", arr1) \n",
    "print (\"Input array2 : \", arr2)\n",
    "   \n",
    "out_arr = np.bitwise_or(arr1, arr2) \n",
    "print (\"Output array after bitwise_or: \", out_arr) "
   ]
  },
  {
   "cell_type": "markdown",
   "id": "79780814",
   "metadata": {},
   "source": [
    "numpy.bitwise_xor() function is used to compute the bit-wise XOR of two array element-wise. This function computes the bit-wise XOR of the underlying binary representation of the integers in the input arrays."
   ]
  },
  {
   "cell_type": "code",
   "execution_count": 33,
   "id": "2591c11d",
   "metadata": {},
   "outputs": [
    {
     "name": "stdout",
     "output_type": "stream",
     "text": [
      "Input array1 :  [2, 8, 125]\n",
      "Input array2 :  [3, 3, 115]\n",
      "Output array after bitwise_xor:  [ 1 11 14]\n"
     ]
    }
   ],
   "source": [
    "arr1 = [2, 8, 125]\n",
    "arr2 = [3, 3, 115]\n",
    "  \n",
    "print (\"Input array1 : \", arr1) \n",
    "print (\"Input array2 : \", arr2)\n",
    "   \n",
    "out_arr = np.bitwise_xor(arr1, arr2) \n",
    "print (\"Output array after bitwise_xor: \", out_arr) "
   ]
  },
  {
   "cell_type": "markdown",
   "id": "14b57d6f",
   "metadata": {},
   "source": [
    "numpy.invert() function is used to compute the bit-wise Inversion of an array element-wise. It computes the bit-wise NOT of the underlying binary representation of the integers in the input arrays."
   ]
  },
  {
   "cell_type": "code",
   "execution_count": 34,
   "id": "fc57a928",
   "metadata": {},
   "outputs": [
    {
     "name": "stdout",
     "output_type": "stream",
     "text": [
      "Input array1 :  [2, 8, 125]\n",
      "Output array after invert:  [  -3   -9 -126]\n"
     ]
    }
   ],
   "source": [
    "arr1 = [2, 8, 125]\n",
    "print (\"Input array1 : \", arr1) \n",
    "out_arr = np.invert(arr1) \n",
    "print (\"Output array after invert: \", out_arr) "
   ]
  },
  {
   "cell_type": "markdown",
   "id": "5f28721e",
   "metadata": {},
   "source": [
    "# Slicing in NumPy array "
   ]
  },
  {
   "cell_type": "markdown",
   "id": "bccbd58f",
   "metadata": {},
   "source": [
    "Slicing is of the form a[x:y] means that output all the elements from xth to y-1th index."
   ]
  },
  {
   "cell_type": "code",
   "execution_count": 35,
   "id": "93df15d2",
   "metadata": {},
   "outputs": [
    {
     "name": "stdout",
     "output_type": "stream",
     "text": [
      "Array is: [ 0  1  2  3  4  5  6  7  8  9 10 11 12 13 14 15 16 17 18 19]\n",
      "\n",
      "a[3:7] =  [3 4 5 6]\n",
      "\n",
      "a[10:] =  [10 11 12 13 14 15 16 17 18 19]\n",
      "\n",
      "a[-3:-7] =  [13 14 15 16]\n"
     ]
    }
   ],
   "source": [
    " # Arange elements from 0 to 19\n",
    "a = np.arange(20)\n",
    "print(\"Array is:\",a)\n",
    " \n",
    "# a[start:stop]\n",
    "print(\"\\na[3:7] = \", a[3:7])\n",
    " \n",
    "# The : operator means all elements till the end.\n",
    "print(\"\\na[10:] = \",a[10:])\n",
    "\n",
    "# Negative integer means start from the end. so -1th index will actually be the last element in array\n",
    "print(\"\\na[-3:-7] = \", a[-7:-3])"
   ]
  },
  {
   "cell_type": "markdown",
   "id": "b04daa1f",
   "metadata": {},
   "source": [
    "# Sorting and Searching "
   ]
  },
  {
   "cell_type": "markdown",
   "id": "6a92f894",
   "metadata": {},
   "source": [
    "Using dstack we combine two columns 'Proteins' and 'Name' so that we know the contents of each beverage."
   ]
  },
  {
   "cell_type": "code",
   "execution_count": 36,
   "id": "30b85d05",
   "metadata": {},
   "outputs": [],
   "source": [
    "a = np.array(data['Protein'], dtype=int)\n",
    "b = np.array(data['Name'])\n",
    "np1 = np.dstack((a,b))\n"
   ]
  },
  {
   "cell_type": "code",
   "execution_count": 37,
   "id": "67df6854",
   "metadata": {},
   "outputs": [
    {
     "data": {
      "text/plain": [
       "(1, 84, 2)"
      ]
     },
     "execution_count": 37,
     "metadata": {},
     "output_type": "execute_result"
    }
   ],
   "source": [
    "np.shape(np1)"
   ]
  },
  {
   "cell_type": "markdown",
   "id": "436ff13b",
   "metadata": {},
   "source": [
    "As we see that we our array has become 3 dimensional so we reshape it using reshape() for sorting."
   ]
  },
  {
   "cell_type": "code",
   "execution_count": 38,
   "id": "6c872a69",
   "metadata": {},
   "outputs": [],
   "source": [
    "np1 = np1.reshape(84,2)"
   ]
  },
  {
   "cell_type": "code",
   "execution_count": 39,
   "id": "e3a5aa65",
   "metadata": {},
   "outputs": [
    {
     "data": {
      "text/plain": [
       "array([[0, 'Cool Lime Starbucks Refreshers™ Beverage'],\n",
       "       [0, 'Strawberry Acai Starbucks Refreshers™ Beverage'],\n",
       "       [0, 'Very Berry Hibiscus Starbucks Refreshers™ Beverage'],\n",
       "       [0, 'Evolution Fresh™ Organic Ginger Limeade'],\n",
       "       [0, 'Iced Coffee'],\n",
       "       [5, 'Iced Espresso Classics - Vanilla Latte'],\n",
       "       [5, 'Iced Espresso Classics - Caffe Mocha'],\n",
       "       [5, 'Iced Espresso Classics - Caramel Macchiato'],\n",
       "       [0, 'Shaken Sweet Tea'],\n",
       "       [0, 'Tazo® Bottled Berry Blossom White'],\n",
       "       [0, 'Tazo® Bottled Black Mango'],\n",
       "       [0, 'Tazo® Bottled Black with Lemon'],\n",
       "       [0, 'Tazo® Bottled Brambleberry'],\n",
       "       [0, 'Tazo® Bottled Giant Peach'],\n",
       "       [0, 'Tazo® Bottled Iced Passion'],\n",
       "       [0, 'Tazo® Bottled Lemon Ginger'],\n",
       "       [0, 'Tazo® Bottled Organic Black Lemonade'],\n",
       "       [0, 'Tazo® Bottled Organic Iced Black Tea'],\n",
       "       [0, 'Tazo® Bottled Organic Iced Green Tea'],\n",
       "       [0, 'Tazo® Bottled Plum Pomegranate'],\n",
       "       [0, 'Tazo® Bottled Tazoberry'],\n",
       "       [0, 'Tazo® Bottled White Cranberry'],\n",
       "       [0, 'Teavana® Shaken Iced Black Tea'],\n",
       "       [0, 'Teavana® Shaken Iced Black Tea Lemonade'],\n",
       "       [0, 'Teavana® Shaken Iced Green Tea'],\n",
       "       [0, 'Teavana® Shaken Iced Green Tea Lemonade'],\n",
       "       [0, 'Teavana® Shaken Iced Passion Tango™ Tea'],\n",
       "       [0, 'Teavana® Shaken Iced Passion Tango™ Tea Lemonade'],\n",
       "       [0, 'Teavana® Shaken Iced Peach Green Tea'],\n",
       "       [5, 'Iced Espresso Classics - Vanilla Latte'],\n",
       "       [5, 'Iced Espresso Classics - Caffe Mocha'],\n",
       "       [5, 'Iced Espresso Classics - Caramel Macchiato'],\n",
       "       [0, 'Starbucks Refreshers™ Raspberry Pomegranate'],\n",
       "       [0, 'Starbucks Refreshers™ Strawberry Lemonade'],\n",
       "       [20, 'Starbucks® Doubleshot Protein Dark Chocolate'],\n",
       "       [20, 'Starbucks® Doubleshot Protein Vanilla'],\n",
       "       [1, 'Starbucks® Iced Coffee Caramel'],\n",
       "       [1, 'Starbucks® Iced Coffee Light Sweetened'],\n",
       "       [1, 'Starbucks® Iced Coffee Unsweetened'],\n",
       "       [0, 'Tazo® Bottled Berry Blossom White'],\n",
       "       [0, 'Tazo® Bottled Black Mango'],\n",
       "       [0, 'Tazo® Bottled Black with Lemon'],\n",
       "       [0, 'Tazo® Bottled Brambleberry'],\n",
       "       [0, 'Tazo® Bottled Giant Peach'],\n",
       "       [0, 'Tazo® Bottled Iced Passion'],\n",
       "       [0, 'Tazo® Bottled Lemon Ginger'],\n",
       "       [0, 'Tazo® Bottled Organic Black Lemonade'],\n",
       "       [0, 'Tazo® Bottled Organic Iced Black Tea'],\n",
       "       [0, 'Tazo® Bottled Organic Iced Green Tea'],\n",
       "       [0, 'Tazo® Bottled Plum Pomegranate'],\n",
       "       [0, 'Tazo® Bottled Tazoberry'],\n",
       "       [0, 'Tazo® Bottled White Cranberry'],\n",
       "       [1, 'Blonde Roast'],\n",
       "       [1, 'Clover® Brewed Coffee'],\n",
       "       [1, 'Decaf Pike Place® Roast'],\n",
       "       [1, 'Featured Dark Roast'],\n",
       "       [0, 'Iced Coffee'],\n",
       "       [0, 'Nariño 70 Cold Brew'],\n",
       "       [0, 'Nariño 70 Cold Brew with Milk'],\n",
       "       [0, 'Nitro Cold Brew'],\n",
       "       [1, 'Nitro Cold Brew with Sweet Cream'],\n",
       "       [1, 'Pike Place® Roast'],\n",
       "       [1, 'Vanilla Sweet Cream Cold Brew'],\n",
       "       [14, 'Hot Chocolate'],\n",
       "       [12, 'Starbucks® Signature Hot Chocolate'],\n",
       "       [13, 'Caffè Latte'],\n",
       "       [13, 'Caffè Mocha'],\n",
       "       [8, 'Cappuccino'],\n",
       "       [10, 'Caramel Macchiato'],\n",
       "       [11, 'Cinnamon Dolce Latte'],\n",
       "       [12, 'Coconutmilk Mocha Macchiato'],\n",
       "       [12, 'Flat White'],\n",
       "       [8, 'Iced Caffè Latte'],\n",
       "       [9, 'Iced Caffè Mocha'],\n",
       "       [10, 'Iced Caramel Macchiato'],\n",
       "       [7, 'Iced Cinnamon Dolce Latte'],\n",
       "       [11, 'Iced Coconutmilk Mocha Macchiato'],\n",
       "       [7, 'Iced Vanilla Latte'],\n",
       "       [10, 'Iced White Chocolate Mocha'],\n",
       "       [12, 'Latte Macchiato'],\n",
       "       [12, 'Latte Macchiato'],\n",
       "       [12, 'Vanilla Latte'],\n",
       "       [14, 'White Chocolate Mocha'],\n",
       "       [15, 'Cinnamon Dolce Frappuccino® Blended Coffee']], dtype=object)"
      ]
     },
     "execution_count": 39,
     "metadata": {},
     "output_type": "execute_result"
    }
   ],
   "source": [
    "np1"
   ]
  },
  {
   "cell_type": "markdown",
   "id": "1f75d43a",
   "metadata": {},
   "source": [
    "To sort the fats column, we use sort() function."
   ]
  },
  {
   "cell_type": "code",
   "execution_count": 40,
   "id": "c214115b",
   "metadata": {},
   "outputs": [
    {
     "data": {
      "text/plain": [
       "array([ 0,  0,  0,  0,  0,  0,  0,  0,  0,  0,  0,  0,  0,  0,  0,  0,  0,\n",
       "        0,  0,  0,  0,  0,  0,  0,  0,  0,  0,  0,  0,  0,  0,  0,  0,  0,\n",
       "        0,  0,  0,  0,  0,  0,  0,  0,  0,  0,  0,  0,  0,  0,  0,  0,  0,\n",
       "        0,  0,  2,  2,  2,  2,  2,  2,  2,  2,  4,  4,  4,  4,  4,  5,  6,\n",
       "        6,  6,  6,  7,  7,  7,  7,  7,  7,  8,  8,  9,  9,  9, 11, 26])"
      ]
     },
     "execution_count": 40,
     "metadata": {},
     "output_type": "execute_result"
    }
   ],
   "source": [
    "np1 = np.array(data['Fat (g)'], dtype=int) \n",
    "np.sort(np1)"
   ]
  },
  {
   "cell_type": "markdown",
   "id": "50d84a39",
   "metadata": {},
   "source": [
    "As we can see that the maximum amount of fat content is 26 units. So we try to find the beverage with maiximum amount of fat content using searching. Searching is done with the help of where() function.\n",
    "\n",
    "First we will dstack the array so that we associate the fat content with their respective drink."
   ]
  },
  {
   "cell_type": "code",
   "execution_count": 41,
   "id": "ba51341e",
   "metadata": {},
   "outputs": [],
   "source": [
    "np1 = np.array(data['Fat (g)'], dtype=int) \n",
    "np2 = np.array(data['Name'])\n",
    "\n",
    "np3 = np.dstack((np1, np2))"
   ]
  },
  {
   "cell_type": "markdown",
   "id": "3d847c6a",
   "metadata": {},
   "source": [
    "Now we search the row which has fat=26 grams"
   ]
  },
  {
   "cell_type": "code",
   "execution_count": 42,
   "id": "9a105aad",
   "metadata": {},
   "outputs": [],
   "source": [
    "i = np.where(np3 == 26)"
   ]
  },
  {
   "cell_type": "code",
   "execution_count": 43,
   "id": "05762d6b",
   "metadata": {},
   "outputs": [
    {
     "data": {
      "text/plain": [
       "(array([0]), array([64]), array([0]))"
      ]
     },
     "execution_count": 43,
     "metadata": {},
     "output_type": "execute_result"
    }
   ],
   "source": [
    "i"
   ]
  },
  {
   "cell_type": "markdown",
   "id": "2bd75300",
   "metadata": {},
   "source": [
    "Thus, we get the  location at (0,64)"
   ]
  },
  {
   "cell_type": "code",
   "execution_count": 44,
   "id": "80b08d1c",
   "metadata": {},
   "outputs": [
    {
     "data": {
      "text/plain": [
       "array([26, 'Starbucks® Signature Hot Chocolate'], dtype=object)"
      ]
     },
     "execution_count": 44,
     "metadata": {},
     "output_type": "execute_result"
    }
   ],
   "source": [
    "np3[0,64]"
   ]
  },
  {
   "cell_type": "markdown",
   "id": "fb12a1bb",
   "metadata": {},
   "source": [
    "Thus, the Starbucks' Signature Hot Chocolate contains the highest fat content. So now you can perform similar operations to check various contents in other drinks."
   ]
  }
 ],
 "metadata": {
  "kernelspec": {
   "display_name": "Python 3 (ipykernel)",
   "language": "python",
   "name": "python3"
  },
  "language_info": {
   "codemirror_mode": {
    "name": "ipython",
    "version": 3
   },
   "file_extension": ".py",
   "mimetype": "text/x-python",
   "name": "python",
   "nbconvert_exporter": "python",
   "pygments_lexer": "ipython3",
   "version": "3.8.10"
  }
 },
 "nbformat": 4,
 "nbformat_minor": 5
}
